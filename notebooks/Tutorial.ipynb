{
 "cells": [
  {
   "cell_type": "code",
   "execution_count": 5,
   "id": "2176af74-33c3-4467-980e-e6646bca45fc",
   "metadata": {},
   "outputs": [],
   "source": [
    "!./protoc/bin/protoc -I=. --python_out=. ./addressbook.proto"
   ]
  },
  {
   "cell_type": "code",
   "execution_count": 6,
   "id": "20865b97-3c4e-46d0-84a8-99b5c3618991",
   "metadata": {},
   "outputs": [],
   "source": [
    "import addressbook_pb2\n",
    "person = addressbook_pb2.Person()\n",
    "person.id = 1234\n",
    "person.name = \"John Doe\"\n",
    "person.email = \"jdoe@example.com\"\n",
    "phone = person.phones.add()\n",
    "phone.number = \"555-4321\"\n",
    "phone.type = addressbook_pb2.Person.PHONE_TYPE_HOME\n"
   ]
  },
  {
   "cell_type": "code",
   "execution_count": 8,
   "id": "f5a77f12-d142-4226-bbd0-0bd4925da7d4",
   "metadata": {},
   "outputs": [
    {
     "data": {
      "text/plain": [
       "name: \"John Doe\"\n",
       "id: 1234\n",
       "email: \"jdoe@example.com\"\n",
       "phones {\n",
       "  number: \"555-4321\"\n",
       "  type: PHONE_TYPE_HOME\n",
       "}"
      ]
     },
     "execution_count": 8,
     "metadata": {},
     "output_type": "execute_result"
    }
   ],
   "source": [
    "person"
   ]
  },
  {
   "cell_type": "code",
   "execution_count": 13,
   "id": "f1338566-6865-40aa-8bec-effd461d6f3c",
   "metadata": {},
   "outputs": [
    {
     "name": "stdin",
     "output_type": "stream",
     "text": [
      "Enter person ID number:  123\n",
      "Enter name:  Jane Doe\n",
      "Enter email address (blank for none):  espspsl@asdasd.com\n",
      "Enter a phone number (or leave blank to finish):  1230440\n",
      "Is this a mobile, home, or work phone?  home\n",
      "Enter a phone number (or leave blank to finish):  12301023030\n",
      "Is this a mobile, home, or work phone?  work\n",
      "Enter a phone number (or leave blank to finish):  \n"
     ]
    }
   ],
   "source": [
    "#!/usr/bin/env python3\n",
    "\n",
    "import addressbook_pb2\n",
    "import sys\n",
    "\n",
    "# This function fills in a Person message based on user input.\n",
    "def PromptForAddress(person):\n",
    "  person.id = int(input(\"Enter person ID number: \"))\n",
    "  person.name = input(\"Enter name: \")\n",
    "\n",
    "  email = input(\"Enter email address (blank for none): \")\n",
    "  if email != \"\":\n",
    "    person.email = email\n",
    "\n",
    "  while True:\n",
    "    number = input(\"Enter a phone number (or leave blank to finish): \")\n",
    "    if number == \"\":\n",
    "      break\n",
    "\n",
    "    phone_number = person.phones.add()\n",
    "    phone_number.number = number\n",
    "\n",
    "    phone_type = input(\"Is this a mobile, home, or work phone? \")\n",
    "    if phone_type == \"mobile\":\n",
    "      phone_number.type = addressbook_pb2.Person.PhoneType.PHONE_TYPE_MOBILE\n",
    "    elif phone_type == \"home\":\n",
    "      phone_number.type = addressbook_pb2.Person.PhoneType.PHONE_TYPE_HOME\n",
    "    elif phone_type == \"work\":\n",
    "      phone_number.type = addressbook_pb2.Person.PhoneType.PHONE_TYPE_WORK\n",
    "    else:\n",
    "      print(\"Unknown phone type; leaving as default value.\")\n",
    "\n",
    "# Main procedure:  Reads the entire address book from a file,\n",
    "#   adds one person based on user input, then writes it back out to the same\n",
    "#   file.\n",
    "address_book = addressbook_pb2.AddressBook()\n",
    "\n",
    "# Read the existing address book.\n",
    "path = \"out.pb\"\n",
    "with open(path, \"rb\") as f:\n",
    "    address_book.ParseFromString(f.read())\n",
    "\n",
    "# Add an address.\n",
    "PromptForAddress(address_book.people.add())\n",
    "\n",
    "# Write the new address book back to disk.\n",
    "with open(\"out.pb\", \"wb\") as f:\n",
    "  f.write(address_book.SerializeToString())"
   ]
  },
  {
   "cell_type": "code",
   "execution_count": 16,
   "id": "6fd80eca-1ea8-4cd9-956d-10b60d8f6f73",
   "metadata": {},
   "outputs": [
    {
     "name": "stdout",
     "output_type": "stream",
     "text": [
      "b'\\n\\x0c\\n\\x08John Doe\\x10{\\n>\\n\\x08Jane Doe\\x10{\\x1a\\x12espspsl@asdasd.com\"\\x0b\\n\\x071230440\\x10\\x02\"\\x0f\\n\\x0b12301023030\\x10\\x03'\n"
     ]
    }
   ],
   "source": [
    "with open(\"out.pb\", \"rb\") as f:\n",
    "    print(f.read())"
   ]
  },
  {
   "cell_type": "code",
   "execution_count": 15,
   "id": "1d305457-6a50-4e62-a61f-d53c28bbe423",
   "metadata": {},
   "outputs": [
    {
     "name": "stdout",
     "output_type": "stream",
     "text": [
      "Person ID: 123\n",
      "  Name: John Doe\n",
      "Person ID: 123\n",
      "  Name: Jane Doe\n",
      "  E-mail address: espspsl@asdasd.com\n",
      "  Home phone #: 1230440\n",
      "  Work phone #: 12301023030\n"
     ]
    }
   ],
   "source": [
    "import addressbook_pb2\n",
    "import sys\n",
    "\n",
    "# Iterates though all people in the AddressBook and prints info about them.\n",
    "def ListPeople(address_book):\n",
    "  for person in address_book.people:\n",
    "    print(\"Person ID:\", person.id)\n",
    "    print(\"  Name:\", person.name)\n",
    "    if person.HasField('email'):\n",
    "      print(\"  E-mail address:\", person.email)\n",
    "\n",
    "    for phone_number in person.phones:\n",
    "      if phone_number.type == addressbook_pb2.Person.PhoneType.PHONE_TYPE_MOBILE:\n",
    "        print(\"  Mobile phone #: \", end=\"\")\n",
    "      elif phone_number.type == addressbook_pb2.Person.PhoneType.PHONE_TYPE_HOME:\n",
    "        print(\"  Home phone #: \", end=\"\")\n",
    "      elif phone_number.type == addressbook_pb2.Person.PhoneType.PHONE_TYPE_WORK:\n",
    "        print(\"  Work phone #: \", end=\"\")\n",
    "      print(phone_number.number)\n",
    "\n",
    "# Main procedure:  Reads the entire address book from a file and prints all\n",
    "#   the information inside.\n",
    "address_book = addressbook_pb2.AddressBook()\n",
    "\n",
    "# Read the existing address book.\n",
    "with open(\"out.pb\", \"rb\") as f:\n",
    "  address_book.ParseFromString(f.read())\n",
    "ListPeople(address_book)\n"
   ]
  }
 ],
 "metadata": {
  "kernelspec": {
   "display_name": "Python 3 (ipykernel)",
   "language": "python",
   "name": "python3"
  },
  "language_info": {
   "codemirror_mode": {
    "name": "ipython",
    "version": 3
   },
   "file_extension": ".py",
   "mimetype": "text/x-python",
   "name": "python",
   "nbconvert_exporter": "python",
   "pygments_lexer": "ipython3",
   "version": "3.9.18"
  }
 },
 "nbformat": 4,
 "nbformat_minor": 5
}
