{
 "cells": [
  {
   "cell_type": "markdown",
   "id": "3815817d-7553-44e0-9064-2ee5f9b4c33f",
   "metadata": {},
   "source": [
    "# Protobuf for github issues API"
   ]
  },
  {
   "cell_type": "code",
   "execution_count": 1,
   "id": "06f297e0-3485-4379-9400-775d2e4bbfdb",
   "metadata": {},
   "outputs": [
    {
     "data": {
      "text/plain": [
       "['ApiResponse',\n",
       " 'ApiResponses',\n",
       " 'ClosedBy',\n",
       " 'DESCRIPTOR',\n",
       " 'Reactions',\n",
       " 'User',\n",
       " '_APIRESPONSE',\n",
       " '_APIRESPONSES',\n",
       " '_CLOSEDBY',\n",
       " '_REACTIONS',\n",
       " '_USER',\n",
       " '__builtins__',\n",
       " '__cached__',\n",
       " '__doc__',\n",
       " '__file__',\n",
       " '__loader__',\n",
       " '__name__',\n",
       " '__package__',\n",
       " '__spec__',\n",
       " '_builder',\n",
       " '_descriptor',\n",
       " '_descriptor_pool',\n",
       " '_globals',\n",
       " '_sym_db',\n",
       " '_symbol_database']"
      ]
     },
     "execution_count": 1,
     "metadata": {},
     "output_type": "execute_result"
    }
   ],
   "source": [
    "# compile github proto\n",
    "!rm -rf issues_pb2.py\n",
    "!./protoc/bin/protoc --python_out=. ./issues.proto\n",
    "\n",
    "import requests\n",
    "import json\n",
    "import issues_pb2\n",
    "\n",
    "UNDEFINED = \"UNDEFINED\"\n",
    "UNDEFINED_INT = 0\n",
    "UNDEFINED_BOOLEAN = False\n",
    "dir(issues_pb2)"
   ]
  },
  {
   "cell_type": "code",
   "execution_count": 2,
   "id": "d54ffc57-dbbd-40f9-bcb4-98536d836ac8",
   "metadata": {},
   "outputs": [],
   "source": [
    "def get_request(url):\n",
    "    resp = requests.get(url)\n",
    "    return resp.text"
   ]
  },
  {
   "cell_type": "code",
   "execution_count": 3,
   "id": "8a5f81d9-2c4a-4db1-91ee-27640ef0e844",
   "metadata": {},
   "outputs": [],
   "source": [
    "def add_to_collection(text, respCollector):\n",
    "    json_info = json.loads(text)\n",
    "    \n",
    "    # populate overall db\n",
    "    \n",
    "    response = respCollector.response.add()\n",
    "    \n",
    "    # populate information\n",
    "    \n",
    "    # user information\n",
    "    assert \"user\" in json_info, print(\"error, user not a valid key here\")\n",
    "    _user = response.user\n",
    "    _user.login = json_info[\"user\"].get(\"login\", UNDEFINED)\n",
    "    _user.id = json_info[\"user\"].get(\"id\", UNDEFINED)\n",
    "    _user.node_id = json_info[\"user\"].get(\"node_id\", UNDEFINED)\n",
    "    _user.avatar_url = json_info[\"user\"].get(\"avatar_url\", UNDEFINED)\n",
    "    _user.gravatar_id = json_info[\"user\"].get(\"gravatar_id\", UNDEFINED)\n",
    "    _user.url = json_info[\"user\"].get(\"url\", UNDEFINED)\n",
    "    _user.html_url = json_info[\"user\"].get(\"html_url\", UNDEFINED)\n",
    "    _user.followers_url = json_info[\"user\"].get(\"followers_url\", UNDEFINED)\n",
    "    _user.following_url = json_info[\"user\"].get(\"following_url\", UNDEFINED)\n",
    "    _user.gists_url = json_info[\"user\"].get(\"gists_url\", UNDEFINED)\n",
    "    _user.starred_url = json_info[\"user\"].get(\"starred_url\", UNDEFINED)\n",
    "    _user.subscriptions_url = json_info[\"user\"].get(\"subscriptions_url\", UNDEFINED)\n",
    "    _user.organizations_url = json_info[\"user\"].get(\"organizations_url\", UNDEFINED)\n",
    "    _user.repos_url = json_info[\"user\"].get(\"repos_url\", UNDEFINED)\n",
    "    _user.events_url = json_info[\"user\"].get(\"events_url\", UNDEFINED)\n",
    "    _user.received_events_url = json_info[\"user\"].get(\"received_events_url\", UNDEFINED)\n",
    "    _user.type = json_info[\"user\"].get(\"type\", UNDEFINED)\n",
    "    _user.site_admin = json_info[\"user\"].get(\"site_admin\", UNDEFINED)\n",
    "    _user.login = json_info[\"user\"].get(\"login\", UNDEFINED)\n",
    "    \n",
    "    # closed by information\n",
    "    assert \"closed_by\" in json_info, print(\"error, closed_by not a valid key here\")\n",
    "    if json_info[\"closed_by\"]:\n",
    "        _closed_by = response.closed_by\n",
    "        _closed_by.login = json_info[\"closed_by\"].get(\"login\", UNDEFINED)\n",
    "        _closed_by.id = json_info[\"closed_by\"].get(\"id\", UNDEFINED)\n",
    "        _closed_by.node_id = json_info[\"closed_by\"].get(\"node_id\", UNDEFINED)\n",
    "        _closed_by.avatar_url = json_info[\"closed_by\"].get(\"avatar_url\", UNDEFINED)\n",
    "        _closed_by.gravatar_id = json_info[\"closed_by\"].get(\"gravatar_id\", UNDEFINED)\n",
    "        _closed_by.url = json_info[\"closed_by\"].get(\"url\", UNDEFINED)\n",
    "        _closed_by.html_url = json_info[\"closed_by\"].get(\"html_url\", UNDEFINED)\n",
    "        _closed_by.followers_url = json_info[\"closed_by\"].get(\"followers_url\", UNDEFINED)\n",
    "        _closed_by.following_url = json_info[\"closed_by\"].get(\"following_url\", UNDEFINED)\n",
    "        _closed_by.gists_url = json_info[\"closed_by\"].get(\"gists_url\", UNDEFINED)\n",
    "        _closed_by.starred_url = json_info[\"closed_by\"].get(\"starred_url\", UNDEFINED)\n",
    "        _closed_by.subscriptions_url = json_info[\"closed_by\"].get(\"subscriptions_url\", UNDEFINED)\n",
    "        _closed_by.organizations_url = json_info[\"closed_by\"].get(\"organizations_url\", UNDEFINED)\n",
    "        _closed_by.repos_url = json_info[\"closed_by\"].get(\"repos_url\", UNDEFINED)\n",
    "        _closed_by.events_url = json_info[\"closed_by\"].get(\"events_url\", UNDEFINED)\n",
    "        _closed_by.received_events_url = json_info[\"closed_by\"].get(\"received_events_url\", UNDEFINED)\n",
    "        _closed_by.type = json_info[\"closed_by\"].get(\"type\", UNDEFINED)\n",
    "        _closed_by.site_admin = json_info[\"closed_by\"].get(\"site_admin\", UNDEFINED)\n",
    "    \n",
    "    # reactions information (note that the default value of ints are 0.)\n",
    "    assert \"reactions\" in json_info, print(\"error, reactions not a valid key here\")\n",
    "    _reactions = response.reactions\n",
    "    _reactions.url = json_info[\"reactions\"].get(\"url\", UNDEFINED)\n",
    "    _reactions.total_count = json_info[\"reactions\"].get(\"total_count\", UNDEFINED_INT)\n",
    "    _reactions.plus_one = int(json_info[\"reactions\"].get(\"+1\", UNDEFINED_INT))\n",
    "    _reactions.minus_one = int(json_info[\"reactions\"].get(\"-1\", UNDEFINED_INT))\n",
    "    _reactions.laugh = int(json_info[\"reactions\"].get(\"laugh\", UNDEFINED_INT))\n",
    "    _reactions.hooray = int(json_info[\"reactions\"].get(\"hooray\", UNDEFINED_INT))\n",
    "    _reactions.confused = int(json_info[\"reactions\"].get(\"confused\", UNDEFINED_INT))\n",
    "    _reactions.heart = int(json_info[\"reactions\"].get(\"heart\", UNDEFINED_INT))\n",
    "    _reactions.rocket = int(json_info[\"reactions\"].get(\"rocket\", UNDEFINED_INT))\n",
    "    _reactions.eyes = int(json_info[\"reactions\"].get(\"eyes\", UNDEFINED_INT))\n",
    "\n",
    "    # response information \n",
    "    # Not implemented: labels, assignees, ClosedBy\n",
    "    response.url = json_info.get(\"url\", UNDEFINED)\n",
    "    response.repository_url = json_info.get(\"repository_url\", UNDEFINED)\n",
    "    response.labels_url = json_info.get(\"labels_url\", UNDEFINED)\n",
    "    response.comments_url = json_info.get(\"comments_url\", UNDEFINED)\n",
    "    response.events_url = json_info.get(\"events_url\", UNDEFINED)\n",
    "    response.html_url = json_info.get(\"html_url\", UNDEFINED)\n",
    "    response.id = json_info.get(\"id\", UNDEFINED_INT)\n",
    "    response.node_id = json_info.get(\"node_id\", UNDEFINED)\n",
    "    response.number = json_info.get(\"number\", UNDEFINED_INT)\n",
    "    response.title = json_info.get(\"title\", UNDEFINED)\n",
    "    response.state = json_info.get(\"state\", UNDEFINED)\n",
    "    response.locked = json_info.get(\"locked\", UNDEFINED_BOOLEAN)\n",
    "    response.milestone = json_info.get(\"milestone\", UNDEFINED)\n",
    "    response.comments = json_info.get(\"comments\", UNDEFINED_INT)\n",
    "    response.created_at = json_info.get(\"created_at\", UNDEFINED)\n",
    "    response.updated_at = json_info.get(\"updated_at\", UNDEFINED)\n",
    "    response.closed_at = json_info.get(\"closed_at\", UNDEFINED)\n",
    "    response.author_association = json_info.get(\"author_association\", UNDEFINED)\n",
    "    response.active_lock_reason = json_info.get(\"active_lock_reason\", UNDEFINED)\n",
    "    response.timeline_url = json_info.get(\"timeline_url\", UNDEFINED)\n",
    "    response.performed_via_github_app = json_info.get(\"performed_via_github_app\", UNDEFINED)\n",
    "    response.state_reason = json_info.get(\"state_reason\", UNDEFINED)"
   ]
  },
  {
   "cell_type": "code",
   "execution_count": 4,
   "id": "ec2c1531-ce57-4e2d-be41-67f079aaf43b",
   "metadata": {
    "scrolled": true
   },
   "outputs": [
    {
     "ename": "TypeError",
     "evalue": "bad argument type for built-in operation",
     "output_type": "error",
     "traceback": [
      "\u001b[0;31m---------------------------------------------------------------------------\u001b[0m",
      "\u001b[0;31mTypeError\u001b[0m                                 Traceback (most recent call last)",
      "Cell \u001b[0;32mIn[4], line 6\u001b[0m\n\u001b[1;32m      4\u001b[0m url \u001b[38;5;241m=\u001b[39m \u001b[38;5;124m\"\u001b[39m\u001b[38;5;124mhttps://api.github.com/repos/The-OpenROAD-Project/OpenROAD/issues/126\u001b[39m\u001b[38;5;124m\"\u001b[39m\n\u001b[1;32m      5\u001b[0m text \u001b[38;5;241m=\u001b[39m get_request(url)\n\u001b[0;32m----> 6\u001b[0m \u001b[43madd_to_collection\u001b[49m\u001b[43m(\u001b[49m\u001b[43mtext\u001b[49m\u001b[43m,\u001b[49m\u001b[43m \u001b[49m\u001b[43mcollection\u001b[49m\u001b[43m)\u001b[49m\n\u001b[1;32m      8\u001b[0m \u001b[38;5;66;03m# url = \"https://api.github.com/repos/The-OpenROAD-Project/OpenROAD/issues/4447\"\u001b[39;00m\n\u001b[1;32m      9\u001b[0m \u001b[38;5;66;03m# text = get_request(url)\u001b[39;00m\n\u001b[1;32m     10\u001b[0m \u001b[38;5;66;03m# add_to_collection(text, collection)\u001b[39;00m\n\u001b[1;32m     12\u001b[0m collection\n",
      "Cell \u001b[0;32mIn[3], line 84\u001b[0m, in \u001b[0;36madd_to_collection\u001b[0;34m(text, respCollector)\u001b[0m\n\u001b[1;32m     82\u001b[0m response\u001b[38;5;241m.\u001b[39mstate \u001b[38;5;241m=\u001b[39m json_info\u001b[38;5;241m.\u001b[39mget(\u001b[38;5;124m\"\u001b[39m\u001b[38;5;124mstate\u001b[39m\u001b[38;5;124m\"\u001b[39m, UNDEFINED)\n\u001b[1;32m     83\u001b[0m response\u001b[38;5;241m.\u001b[39mlocked \u001b[38;5;241m=\u001b[39m json_info\u001b[38;5;241m.\u001b[39mget(\u001b[38;5;124m\"\u001b[39m\u001b[38;5;124mlocked\u001b[39m\u001b[38;5;124m\"\u001b[39m, UNDEFINED_BOOLEAN)\n\u001b[0;32m---> 84\u001b[0m \u001b[43mresponse\u001b[49m\u001b[38;5;241;43m.\u001b[39;49m\u001b[43mmilestone\u001b[49m \u001b[38;5;241m=\u001b[39m json_info\u001b[38;5;241m.\u001b[39mget(\u001b[38;5;124m\"\u001b[39m\u001b[38;5;124mmilestone\u001b[39m\u001b[38;5;124m\"\u001b[39m, UNDEFINED)\n\u001b[1;32m     85\u001b[0m response\u001b[38;5;241m.\u001b[39mcomments \u001b[38;5;241m=\u001b[39m json_info\u001b[38;5;241m.\u001b[39mget(\u001b[38;5;124m\"\u001b[39m\u001b[38;5;124mcomments\u001b[39m\u001b[38;5;124m\"\u001b[39m, UNDEFINED_INT)\n\u001b[1;32m     86\u001b[0m response\u001b[38;5;241m.\u001b[39mcreated_at \u001b[38;5;241m=\u001b[39m json_info\u001b[38;5;241m.\u001b[39mget(\u001b[38;5;124m\"\u001b[39m\u001b[38;5;124mcreated_at\u001b[39m\u001b[38;5;124m\"\u001b[39m, UNDEFINED)\n",
      "\u001b[0;31mTypeError\u001b[0m: bad argument type for built-in operation"
     ]
    }
   ],
   "source": [
    "# initialize new collection\n",
    "collection = issues_pb2.ApiResponses()\n",
    "\n",
    "url = \"https://api.github.com/repos/The-OpenROAD-Project/OpenROAD/issues/126\"\n",
    "text = get_request(url)\n",
    "add_to_collection(text, collection)\n",
    "\n",
    "# url = \"https://api.github.com/repos/The-OpenROAD-Project/OpenROAD/issues/4447\"\n",
    "# text = get_request(url)\n",
    "# add_to_collection(text, collection)\n",
    "\n",
    "collection"
   ]
  },
  {
   "cell_type": "code",
   "execution_count": 18,
   "id": "be3acefb-fd4a-4e34-a6a2-7e99710e4202",
   "metadata": {},
   "outputs": [],
   "source": [
    "# save pb file\n",
    "with open(\"output.pb\", \"wb\") as f:\n",
    "    f.write(collection.SerializeToString())"
   ]
  },
  {
   "cell_type": "code",
   "execution_count": 19,
   "id": "aa948d85-7323-4527-abbe-bcce3e1e31d6",
   "metadata": {},
   "outputs": [],
   "source": [
    "# Read the existing address book.\n",
    "collection2 = issues_pb2.ApiResponses()\n",
    "with open(\"output.pb\", \"rb\") as f:\n",
    "  collection2.ParseFromString(f.read())\n",
    "\n",
    "assert collection2 == collection"
   ]
  },
  {
   "cell_type": "code",
   "execution_count": 10,
   "id": "b9df4a48-98b2-4305-b10b-ccdd38969382",
   "metadata": {},
   "outputs": [
    {
     "data": {
      "text/plain": [
       "user {\n",
       "  login: \"kareefardi\"\n",
       "  id: 12303699\n",
       "  node_id: \"MDQ6VXNlcjEyMzAzNjk5\"\n",
       "  avatar_url: \"https://avatars.githubusercontent.com/u/12303699?v=4\"\n",
       "  url: \"https://api.github.com/users/kareefardi\"\n",
       "  html_url: \"https://github.com/kareefardi\"\n",
       "  followers_url: \"https://api.github.com/users/kareefardi/followers\"\n",
       "  following_url: \"https://api.github.com/users/kareefardi/following{/other_user}\"\n",
       "  gists_url: \"https://api.github.com/users/kareefardi/gists{/gist_id}\"\n",
       "  starred_url: \"https://api.github.com/users/kareefardi/starred{/owner}{/repo}\"\n",
       "  subscriptions_url: \"https://api.github.com/users/kareefardi/subscriptions\"\n",
       "  organizations_url: \"https://api.github.com/users/kareefardi/orgs\"\n",
       "  repos_url: \"https://api.github.com/users/kareefardi/repos\"\n",
       "  events_url: \"https://api.github.com/users/kareefardi/events{/privacy}\"\n",
       "  received_events_url: \"https://api.github.com/users/kareefardi/received_events\"\n",
       "  type: \"User\"\n",
       "}\n",
       "closed_by {\n",
       "  login: \"jjcherry56\"\n",
       "  id: 34749589\n",
       "  node_id: \"MDQ6VXNlcjM0NzQ5NTg5\"\n",
       "  avatar_url: \"https://avatars.githubusercontent.com/u/34749589?v=4\"\n",
       "  url: \"https://api.github.com/users/jjcherry56\"\n",
       "  html_url: \"https://github.com/jjcherry56\"\n",
       "  followers_url: \"https://api.github.com/users/jjcherry56/followers\"\n",
       "  following_url: \"https://api.github.com/users/jjcherry56/following{/other_user}\"\n",
       "  gists_url: \"https://api.github.com/users/jjcherry56/gists{/gist_id}\"\n",
       "  starred_url: \"https://api.github.com/users/jjcherry56/starred{/owner}{/repo}\"\n",
       "  subscriptions_url: \"https://api.github.com/users/jjcherry56/subscriptions\"\n",
       "  organizations_url: \"https://api.github.com/users/jjcherry56/orgs\"\n",
       "  repos_url: \"https://api.github.com/users/jjcherry56/repos\"\n",
       "  events_url: \"https://api.github.com/users/jjcherry56/events{/privacy}\"\n",
       "  received_events_url: \"https://api.github.com/users/jjcherry56/received_events\"\n",
       "  type: \"User\"\n",
       "}\n",
       "reactions {\n",
       "  url: \"https://api.github.com/repos/The-OpenROAD-Project/OpenROAD/issues/126/reactions\"\n",
       "}"
      ]
     },
     "execution_count": 10,
     "metadata": {},
     "output_type": "execute_result"
    }
   ],
   "source": [
    "url = \"https://api.github.com/repos/The-OpenROAD-Project/OpenROAD/issues/4449\"\n",
    "text = get_request(url)\n",
    "add_to_collection(text, collection)\n"
   ]
  }
 ],
 "metadata": {
  "kernelspec": {
   "display_name": "Python 3 (ipykernel)",
   "language": "python",
   "name": "python3"
  },
  "language_info": {
   "codemirror_mode": {
    "name": "ipython",
    "version": 3
   },
   "file_extension": ".py",
   "mimetype": "text/x-python",
   "name": "python",
   "nbconvert_exporter": "python",
   "pygments_lexer": "ipython3",
   "version": "3.10.12"
  }
 },
 "nbformat": 4,
 "nbformat_minor": 5
}
