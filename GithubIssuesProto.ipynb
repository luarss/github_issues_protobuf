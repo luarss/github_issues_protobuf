{
 "cells": [
  {
   "cell_type": "markdown",
   "id": "3815817d-7553-44e0-9064-2ee5f9b4c33f",
   "metadata": {},
   "source": [
    "# Protobuf for github issues API"
   ]
  },
  {
   "cell_type": "code",
   "execution_count": 1,
   "id": "06f297e0-3485-4379-9400-775d2e4bbfdb",
   "metadata": {},
   "outputs": [
    {
     "data": {
      "text/plain": [
       "['ApiResponse',\n",
       " 'ApiResponses',\n",
       " 'ClosedBy',\n",
       " 'DESCRIPTOR',\n",
       " 'Reactions',\n",
       " 'User',\n",
       " '_APIRESPONSE',\n",
       " '_APIRESPONSES',\n",
       " '_CLOSEDBY',\n",
       " '_REACTIONS',\n",
       " '_USER',\n",
       " '__builtins__',\n",
       " '__cached__',\n",
       " '__doc__',\n",
       " '__file__',\n",
       " '__loader__',\n",
       " '__name__',\n",
       " '__package__',\n",
       " '__spec__',\n",
       " '_builder',\n",
       " '_descriptor',\n",
       " '_descriptor_pool',\n",
       " '_globals',\n",
       " '_sym_db',\n",
       " '_symbol_database']"
      ]
     },
     "execution_count": 1,
     "metadata": {},
     "output_type": "execute_result"
    }
   ],
   "source": [
    "# compile github proto\n",
    "!rm -rf issues_pb2.py\n",
    "!./protoc/bin/protoc --python_out=. ./issues.proto\n",
    "\n",
    "import requests\n",
    "import json\n",
    "import issues_pb2\n",
    "\n",
    "UNDEFINED = \"UNDEFINED\"\n",
    "UNDEFINED_INT = 0\n",
    "dir(issues_pb2)"
   ]
  },
  {
   "cell_type": "code",
   "execution_count": 2,
   "id": "d54ffc57-dbbd-40f9-bcb4-98536d836ac8",
   "metadata": {},
   "outputs": [],
   "source": [
    "def get_request(url):\n",
    "    resp = requests.get(url)\n",
    "    return resp.text"
   ]
  },
  {
   "cell_type": "code",
   "execution_count": 16,
   "id": "8a5f81d9-2c4a-4db1-91ee-27640ef0e844",
   "metadata": {},
   "outputs": [],
   "source": [
    "def add_to_collection(text, respCollector):\n",
    "    json_info = json.loads(text)\n",
    "    \n",
    "    # populate overall db\n",
    "    \n",
    "    response = respCollector.response.add()\n",
    "    \n",
    "    # populate information\n",
    "    \n",
    "    # user information\n",
    "    assert \"user\" in json_info, print(\"error, user not a valid key here\")\n",
    "    _user = response.user\n",
    "    _user.login = json_info[\"user\"].get(\"login\", UNDEFINED)\n",
    "    _user.id = json_info[\"user\"].get(\"id\", UNDEFINED)\n",
    "    _user.node_id = json_info[\"user\"].get(\"node_id\", UNDEFINED)\n",
    "    _user.avatar_url = json_info[\"user\"].get(\"avatar_url\", UNDEFINED)\n",
    "    _user.gravatar_id = json_info[\"user\"].get(\"gravatar_id\", UNDEFINED)\n",
    "    _user.url = json_info[\"user\"].get(\"url\", UNDEFINED)\n",
    "    _user.html_url = json_info[\"user\"].get(\"html_url\", UNDEFINED)\n",
    "    _user.followers_url = json_info[\"user\"].get(\"followers_url\", UNDEFINED)\n",
    "    _user.following_url = json_info[\"user\"].get(\"following_url\", UNDEFINED)\n",
    "    _user.gists_url = json_info[\"user\"].get(\"gists_url\", UNDEFINED)\n",
    "    _user.starred_url = json_info[\"user\"].get(\"starred_url\", UNDEFINED)\n",
    "    _user.subscriptions_url = json_info[\"user\"].get(\"subscriptions_url\", UNDEFINED)\n",
    "    _user.organizations_url = json_info[\"user\"].get(\"organizations_url\", UNDEFINED)\n",
    "    _user.repos_url = json_info[\"user\"].get(\"repos_url\", UNDEFINED)\n",
    "    _user.events_url = json_info[\"user\"].get(\"events_url\", UNDEFINED)\n",
    "    _user.received_events_url = json_info[\"user\"].get(\"received_events_url\", UNDEFINED)\n",
    "    _user.type = json_info[\"user\"].get(\"type\", UNDEFINED)\n",
    "    _user.site_admin = json_info[\"user\"].get(\"site_admin\", UNDEFINED)\n",
    "    _user.login = json_info[\"user\"].get(\"login\", UNDEFINED)\n",
    "    \n",
    "    # closed by information\n",
    "    assert \"closed_by\" in json_info, print(\"error, closed_by not a valid key here\")\n",
    "    if json_info[\"closed_by\"]:\n",
    "        _closed_by = response.closed_by\n",
    "        _closed_by.login = json_info[\"closed_by\"].get(\"login\", UNDEFINED)\n",
    "        _closed_by.id = json_info[\"closed_by\"].get(\"id\", UNDEFINED)\n",
    "        _closed_by.node_id = json_info[\"closed_by\"].get(\"node_id\", UNDEFINED)\n",
    "        _closed_by.avatar_url = json_info[\"closed_by\"].get(\"avatar_url\", UNDEFINED)\n",
    "        _closed_by.gravatar_id = json_info[\"closed_by\"].get(\"gravatar_id\", UNDEFINED)\n",
    "        _closed_by.url = json_info[\"closed_by\"].get(\"url\", UNDEFINED)\n",
    "        _closed_by.html_url = json_info[\"closed_by\"].get(\"html_url\", UNDEFINED)\n",
    "        _closed_by.followers_url = json_info[\"closed_by\"].get(\"followers_url\", UNDEFINED)\n",
    "        _closed_by.following_url = json_info[\"closed_by\"].get(\"following_url\", UNDEFINED)\n",
    "        _closed_by.gists_url = json_info[\"closed_by\"].get(\"gists_url\", UNDEFINED)\n",
    "        _closed_by.starred_url = json_info[\"closed_by\"].get(\"starred_url\", UNDEFINED)\n",
    "        _closed_by.subscriptions_url = json_info[\"closed_by\"].get(\"subscriptions_url\", UNDEFINED)\n",
    "        _closed_by.organizations_url = json_info[\"closed_by\"].get(\"organizations_url\", UNDEFINED)\n",
    "        _closed_by.repos_url = json_info[\"closed_by\"].get(\"repos_url\", UNDEFINED)\n",
    "        _closed_by.events_url = json_info[\"closed_by\"].get(\"events_url\", UNDEFINED)\n",
    "        _closed_by.received_events_url = json_info[\"closed_by\"].get(\"received_events_url\", UNDEFINED)\n",
    "        _closed_by.type = json_info[\"closed_by\"].get(\"type\", UNDEFINED)\n",
    "        _closed_by.site_admin = json_info[\"closed_by\"].get(\"site_admin\", UNDEFINED)\n",
    "    \n",
    "    # reactions information (note that the default value of ints are 0.)\n",
    "    assert \"reactions\" in json_info, print(\"error, reactions not a valid key here\")\n",
    "    _reactions = response.reactions\n",
    "    _reactions.url = json_info[\"reactions\"].get(\"url\", UNDEFINED)\n",
    "    _reactions.total_count = json_info[\"reactions\"].get(\"total_count\", UNDEFINED_INT)\n",
    "    _reactions.plus_one = int(json_info[\"reactions\"].get(\"+1\", UNDEFINED_INT))\n",
    "    _reactions.minus_one = int(json_info[\"reactions\"].get(\"-1\", UNDEFINED_INT))\n",
    "    _reactions.laugh = int(json_info[\"reactions\"].get(\"laugh\", UNDEFINED_INT))\n",
    "    _reactions.hooray = int(json_info[\"reactions\"].get(\"hooray\", UNDEFINED_INT))\n",
    "    _reactions.confused = int(json_info[\"reactions\"].get(\"confused\", UNDEFINED_INT))\n",
    "    _reactions.heart = int(json_info[\"reactions\"].get(\"heart\", UNDEFINED_INT))\n",
    "    _reactions.rocket = int(json_info[\"reactions\"].get(\"rocket\", UNDEFINED_INT))\n",
    "    _reactions.eyes = int(json_info[\"reactions\"].get(\"eyes\", UNDEFINED_INT))"
   ]
  },
  {
   "cell_type": "code",
   "execution_count": 17,
   "id": "ec2c1531-ce57-4e2d-be41-67f079aaf43b",
   "metadata": {
    "scrolled": true
   },
   "outputs": [
    {
     "data": {
      "text/plain": [
       "response {\n",
       "  user {\n",
       "    login: \"kareefardi\"\n",
       "    id: 12303699\n",
       "    node_id: \"MDQ6VXNlcjEyMzAzNjk5\"\n",
       "    avatar_url: \"https://avatars.githubusercontent.com/u/12303699?v=4\"\n",
       "    url: \"https://api.github.com/users/kareefardi\"\n",
       "    html_url: \"https://github.com/kareefardi\"\n",
       "    followers_url: \"https://api.github.com/users/kareefardi/followers\"\n",
       "    following_url: \"https://api.github.com/users/kareefardi/following{/other_user}\"\n",
       "    gists_url: \"https://api.github.com/users/kareefardi/gists{/gist_id}\"\n",
       "    starred_url: \"https://api.github.com/users/kareefardi/starred{/owner}{/repo}\"\n",
       "    subscriptions_url: \"https://api.github.com/users/kareefardi/subscriptions\"\n",
       "    organizations_url: \"https://api.github.com/users/kareefardi/orgs\"\n",
       "    repos_url: \"https://api.github.com/users/kareefardi/repos\"\n",
       "    events_url: \"https://api.github.com/users/kareefardi/events{/privacy}\"\n",
       "    received_events_url: \"https://api.github.com/users/kareefardi/received_events\"\n",
       "    type: \"User\"\n",
       "  }\n",
       "  closed_by {\n",
       "    login: \"jjcherry56\"\n",
       "    id: 34749589\n",
       "    node_id: \"MDQ6VXNlcjM0NzQ5NTg5\"\n",
       "    avatar_url: \"https://avatars.githubusercontent.com/u/34749589?v=4\"\n",
       "    url: \"https://api.github.com/users/jjcherry56\"\n",
       "    html_url: \"https://github.com/jjcherry56\"\n",
       "    followers_url: \"https://api.github.com/users/jjcherry56/followers\"\n",
       "    following_url: \"https://api.github.com/users/jjcherry56/following{/other_user}\"\n",
       "    gists_url: \"https://api.github.com/users/jjcherry56/gists{/gist_id}\"\n",
       "    starred_url: \"https://api.github.com/users/jjcherry56/starred{/owner}{/repo}\"\n",
       "    subscriptions_url: \"https://api.github.com/users/jjcherry56/subscriptions\"\n",
       "    organizations_url: \"https://api.github.com/users/jjcherry56/orgs\"\n",
       "    repos_url: \"https://api.github.com/users/jjcherry56/repos\"\n",
       "    events_url: \"https://api.github.com/users/jjcherry56/events{/privacy}\"\n",
       "    received_events_url: \"https://api.github.com/users/jjcherry56/received_events\"\n",
       "    type: \"User\"\n",
       "  }\n",
       "  reactions {\n",
       "    url: \"https://api.github.com/repos/The-OpenROAD-Project/OpenROAD/issues/126/reactions\"\n",
       "  }\n",
       "}\n",
       "response {\n",
       "  user {\n",
       "    login: \"AcKoucher\"\n",
       "    id: 104802710\n",
       "    node_id: \"U_kgDOBj8plg\"\n",
       "    avatar_url: \"https://avatars.githubusercontent.com/u/104802710?v=4\"\n",
       "    url: \"https://api.github.com/users/AcKoucher\"\n",
       "    html_url: \"https://github.com/AcKoucher\"\n",
       "    followers_url: \"https://api.github.com/users/AcKoucher/followers\"\n",
       "    following_url: \"https://api.github.com/users/AcKoucher/following{/other_user}\"\n",
       "    gists_url: \"https://api.github.com/users/AcKoucher/gists{/gist_id}\"\n",
       "    starred_url: \"https://api.github.com/users/AcKoucher/starred{/owner}{/repo}\"\n",
       "    subscriptions_url: \"https://api.github.com/users/AcKoucher/subscriptions\"\n",
       "    organizations_url: \"https://api.github.com/users/AcKoucher/orgs\"\n",
       "    repos_url: \"https://api.github.com/users/AcKoucher/repos\"\n",
       "    events_url: \"https://api.github.com/users/AcKoucher/events{/privacy}\"\n",
       "    received_events_url: \"https://api.github.com/users/AcKoucher/received_events\"\n",
       "    type: \"User\"\n",
       "  }\n",
       "  reactions {\n",
       "    url: \"https://api.github.com/repos/The-OpenROAD-Project/OpenROAD/issues/4447/reactions\"\n",
       "  }\n",
       "}"
      ]
     },
     "execution_count": 17,
     "metadata": {},
     "output_type": "execute_result"
    }
   ],
   "source": [
    "# initialize new collection\n",
    "collection = issues_pb2.ApiResponses()\n",
    "\n",
    "url = \"https://api.github.com/repos/The-OpenROAD-Project/OpenROAD/issues/126\"\n",
    "text = get_request(url)\n",
    "add_to_collection(text, collection)\n",
    "\n",
    "url = \"https://api.github.com/repos/The-OpenROAD-Project/OpenROAD/issues/4447\"\n",
    "text = get_request(url)\n",
    "add_to_collection(text, collection)\n",
    "\n",
    "collection"
   ]
  },
  {
   "cell_type": "code",
   "execution_count": 18,
   "id": "be3acefb-fd4a-4e34-a6a2-7e99710e4202",
   "metadata": {},
   "outputs": [],
   "source": [
    "# save pb file\n",
    "with open(\"output.pb\", \"wb\") as f:\n",
    "    f.write(collection.SerializeToString())"
   ]
  },
  {
   "cell_type": "code",
   "execution_count": 19,
   "id": "aa948d85-7323-4527-abbe-bcce3e1e31d6",
   "metadata": {},
   "outputs": [],
   "source": [
    "# Read the existing address book.\n",
    "collection2 = issues_pb2.ApiResponses()\n",
    "with open(\"output.pb\", \"rb\") as f:\n",
    "  collection2.ParseFromString(f.read())\n",
    "\n",
    "assert collection2 == collection"
   ]
  },
  {
   "cell_type": "code",
   "execution_count": null,
   "id": "b9df4a48-98b2-4305-b10b-ccdd38969382",
   "metadata": {},
   "outputs": [],
   "source": []
  }
 ],
 "metadata": {
  "kernelspec": {
   "display_name": "Python 3 (ipykernel)",
   "language": "python",
   "name": "python3"
  },
  "language_info": {
   "codemirror_mode": {
    "name": "ipython",
    "version": 3
   },
   "file_extension": ".py",
   "mimetype": "text/x-python",
   "name": "python",
   "nbconvert_exporter": "python",
   "pygments_lexer": "ipython3",
   "version": "3.9.18"
  }
 },
 "nbformat": 4,
 "nbformat_minor": 5
}
